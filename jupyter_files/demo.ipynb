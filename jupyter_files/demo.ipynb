{
 "cells": [
  {
   "cell_type": "code",
   "execution_count": 1,
   "metadata": {},
   "outputs": [],
   "source": [
    "import requests\n",
    "from datetime import date,datetime"
   ]
  },
  {
   "cell_type": "code",
   "execution_count": 280,
   "metadata": {},
   "outputs": [],
   "source": [
    "def get_response():\n",
    "    headers = {\n",
    "        'authority': 'cdn-api.co-vin.in',\n",
    "        'sec-ch-ua': '\" Not A;Brand\";v=\"99\", \"Chromium\";v=\"90\", \"Google Chrome\";v=\"90\"',\n",
    "        'accept': 'application/json, text/plain, */*',\n",
    "        'dnt': '1',\n",
    "        'sec-ch-ua-mobile': '?0',\n",
    "        'user-agent': 'Mozilla/5.0 (Windows NT 10.0; Win64; x64) AppleWebKit/537.36 (KHTML, like Gecko) Chrome/90.0.4430.93 Safari/537.36',\n",
    "        'origin': 'https://www.cowin.gov.in',\n",
    "        'sec-fetch-site': 'cross-site',\n",
    "        'sec-fetch-mode': 'cors',\n",
    "        'sec-fetch-dest': 'empty',\n",
    "        'referer': 'https://www.cowin.gov.in/',\n",
    "        'accept-language': 'en-US,en;q=0.9,hi;q=0.8,lb;q=0.7',\n",
    "        'if-none-match': 'W/\"4a9-uQBLeZh9sZX2prS+yRP/SfykrE8\"',\n",
    "    }\n",
    "\n",
    "    params = (\n",
    "        ('pincode', pincode),\n",
    "        ('date', date.today().strftime(\"%d-%m-%Y\")),\n",
    "    )\n",
    "\n",
    "    response = requests.get('https://cdn-api.co-vin.in/api/v2/appointment/sessions/public/calendarByPin', headers=headers, params=params)\n",
    "    result = response.json()\n",
    "    if result.get('error'):\n",
    "        print(result['error'])\n",
    "    availability = [en for centers in result['centers'] for en in centers['sessions']]\n",
    "    availability_count = [en['available_capacity'] for en in availability if en['min_age_limit']==age]\n",
    "\n",
    "    print(f'Availability @ {datetime.now()} is : ',sum(availability_count))\n",
    "    if any(availability_count):\n",
    "        print('++'*30)\n",
    "        print(availability)\n",
    "        print('++'*30)\n",
    "        # play_music()\n",
    "    return result"
   ]
  },
  {
   "cell_type": "code",
   "execution_count": 281,
   "metadata": {},
   "outputs": [
    {
     "name": "stdout",
     "output_type": "stream",
     "text": [
      "Enter location pincode : 122001\n",
      "Enter age group 18 or 45 : 18\n",
      "Availability @ 2021-05-16 13:39:59.306399 is :  17\n",
      "++++++++++++++++++++++++++++++++++++++++++++++++++++++++++++\n",
      "[{'session_id': '4c1e70aa-e7bd-47d2-84ef-49479866a1ad', 'date': '16-05-2021', 'available_capacity': 0, 'min_age_limit': 18, 'vaccine': 'COVISHIELD', 'slots': ['10:00AM-12:00PM', '12:00PM-02:00PM', '02:00PM-04:00PM', '04:00PM-05:00PM'], 'available_capacity_dose1': 0, 'available_capacity_dose2': 0}, {'session_id': '410d5807-f836-43c2-b1f6-a7d9add537fa', 'date': '16-05-2021', 'available_capacity': 0, 'min_age_limit': 18, 'vaccine': 'COVISHIELD', 'slots': ['10:00AM-12:00PM', '12:00PM-02:00PM', '02:00PM-04:00PM', '04:00PM-05:00PM'], 'available_capacity_dose1': 0, 'available_capacity_dose2': 0}, {'session_id': 'c8ddebe3-6369-4b61-b311-5c104e7943d0', 'date': '16-05-2021', 'available_capacity': 0, 'min_age_limit': 18, 'vaccine': 'COVISHIELD', 'slots': ['10:00AM-12:00PM', '12:00PM-02:00PM', '02:00PM-04:00PM', '04:00PM-05:00PM'], 'available_capacity_dose1': 0, 'available_capacity_dose2': 0}, {'session_id': 'd8b385c5-bbf3-4f06-8d52-21870fdc3589', 'date': '16-05-2021', 'available_capacity': 0, 'min_age_limit': 18, 'vaccine': 'COVISHIELD', 'slots': ['10:00AM-12:00PM', '12:00PM-02:00PM', '02:00PM-04:00PM', '04:00PM-05:00PM'], 'available_capacity_dose1': 0, 'available_capacity_dose2': 0}, {'session_id': '3387bcf9-cb8b-4470-a16d-15d09552c003', 'date': '16-05-2021', 'available_capacity': 0, 'min_age_limit': 18, 'vaccine': 'COVISHIELD', 'slots': ['10:00AM-12:00PM', '12:00PM-02:00PM', '02:00PM-04:00PM', '04:00PM-05:00PM'], 'available_capacity_dose1': 0, 'available_capacity_dose2': 0}, {'session_id': '655d1695-10f1-4d40-b137-2267b25523f5', 'date': '16-05-2021', 'available_capacity': 0, 'min_age_limit': 18, 'vaccine': 'COVISHIELD', 'slots': ['10:00AM-12:00PM', '12:00PM-02:00PM', '02:00PM-04:00PM', '04:00PM-05:00PM'], 'available_capacity_dose1': 0, 'available_capacity_dose2': 0}, {'session_id': '37523406-6a79-4d9e-a235-4a3b2d85abcd', 'date': '16-05-2021', 'available_capacity': 0, 'min_age_limit': 45, 'vaccine': 'COVAXIN', 'slots': ['10:00AM-12:00PM', '12:00PM-02:00PM', '02:00PM-04:00PM', '04:00PM-05:00PM'], 'available_capacity_dose1': 0, 'available_capacity_dose2': 0}, {'session_id': '77e40e64-99b2-4f9b-b876-13b3c01e370a', 'date': '16-05-2021', 'available_capacity': 0, 'min_age_limit': 45, 'vaccine': 'COVISHIELD', 'slots': ['10:00AM-12:00PM', '12:00PM-02:00PM', '02:00PM-04:00PM', '04:00PM-05:00PM'], 'available_capacity_dose1': 0, 'available_capacity_dose2': 0}, {'session_id': 'e49f4b9e-1e0d-46c7-ae42-03696d3a1363', 'date': '16-05-2021', 'available_capacity': 0, 'min_age_limit': 18, 'vaccine': 'COVISHIELD', 'slots': ['10:00AM-12:00PM', '12:00PM-02:00PM', '02:00PM-04:00PM', '04:00PM-05:00PM'], 'available_capacity_dose1': 0, 'available_capacity_dose2': 0}, {'session_id': '7481d916-54be-4deb-a01d-a5f13702ebfe', 'date': '16-05-2021', 'available_capacity': 0, 'min_age_limit': 18, 'vaccine': 'COVISHIELD', 'slots': ['10:00AM-12:00PM', '12:00PM-02:00PM', '02:00PM-04:00PM', '04:00PM-05:00PM'], 'available_capacity_dose1': 0, 'available_capacity_dose2': 0}, {'session_id': 'c94e0fae-6575-4da3-84b9-c84a9dcad5c6', 'date': '16-05-2021', 'available_capacity': 0, 'min_age_limit': 18, 'vaccine': 'COVISHIELD', 'slots': ['10:00AM-12:00PM', '12:00PM-02:00PM', '02:00PM-04:00PM', '04:00PM-05:00PM'], 'available_capacity_dose1': 0, 'available_capacity_dose2': 0}, {'session_id': '920ec91c-9245-40ce-8301-481452b93222', 'date': '16-05-2021', 'available_capacity': 0, 'min_age_limit': 18, 'vaccine': 'COVISHIELD', 'slots': ['10:00AM-12:00PM', '12:00PM-02:00PM', '02:00PM-04:00PM', '04:00PM-05:00PM'], 'available_capacity_dose1': 0, 'available_capacity_dose2': 0}, {'session_id': 'a63bd838-8f9e-4f98-885b-95b60da6003b', 'date': '16-05-2021', 'available_capacity': 0, 'min_age_limit': 18, 'vaccine': 'COVISHIELD', 'slots': ['10:00AM-12:00PM', '12:00PM-02:00PM', '02:00PM-04:00PM', '04:00PM-05:00PM'], 'available_capacity_dose1': 0, 'available_capacity_dose2': 0}, {'session_id': 'cbe69e8b-7b62-4fc3-8501-0c4289375bc1', 'date': '17-05-2021', 'available_capacity': 0, 'min_age_limit': 18, 'vaccine': 'COVISHIELD', 'slots': ['09:00AM-11:00AM', '11:00AM-01:00PM', '01:00PM-03:00PM', '03:00PM-05:00PM'], 'available_capacity_dose1': 0, 'available_capacity_dose2': 0}, {'session_id': '4ff5a781-d516-4eef-9961-9202e83a2498', 'date': '18-05-2021', 'available_capacity': 1, 'min_age_limit': 18, 'vaccine': 'COVISHIELD', 'slots': ['09:00AM-11:00AM', '11:00AM-01:00PM', '01:00PM-03:00PM', '03:00PM-05:00PM'], 'available_capacity_dose1': 0, 'available_capacity_dose2': 1}, {'session_id': 'a3cccad2-9334-4ccc-a961-476cb5471eaf', 'date': '19-05-2021', 'available_capacity': 8, 'min_age_limit': 18, 'vaccine': 'COVISHIELD', 'slots': ['09:00AM-11:00AM', '11:00AM-01:00PM', '01:00PM-03:00PM', '03:00PM-05:00PM'], 'available_capacity_dose1': 0, 'available_capacity_dose2': 0}, {'session_id': '0b8f39eb-d7fb-4ba8-b95b-2a3468452ab4', 'date': '20-05-2021', 'available_capacity': 5, 'min_age_limit': 18, 'vaccine': 'COVISHIELD', 'slots': ['09:00AM-11:00AM', '11:00AM-01:00PM', '01:00PM-03:00PM', '03:00PM-05:00PM'], 'available_capacity_dose1': 0, 'available_capacity_dose2': 0}, {'session_id': 'bafcfb47-04b5-45eb-bd5a-bd2138060537', 'date': '21-05-2021', 'available_capacity': 3, 'min_age_limit': 18, 'vaccine': 'COVISHIELD', 'slots': ['09:00AM-11:00AM', '11:00AM-01:00PM', '01:00PM-03:00PM', '03:00PM-05:00PM'], 'available_capacity_dose1': 0, 'available_capacity_dose2': 0}, {'session_id': '705a9d1b-cd7a-4cdb-ae31-cf592058594f', 'date': '22-05-2021', 'available_capacity': 0, 'min_age_limit': 18, 'vaccine': 'COVISHIELD', 'slots': ['09:00AM-11:00AM', '11:00AM-01:00PM', '01:00PM-03:00PM', '03:00PM-05:00PM'], 'available_capacity_dose1': 0, 'available_capacity_dose2': 0}]\n",
      "++++++++++++++++++++++++++++++++++++++++++++++++++++++++++++\n"
     ]
    }
   ],
   "source": [
    "pincode = input('Enter location pincode : ')\n",
    "age = int(input('Enter age group 18 or 45 : '))\n",
    "result = get_response()"
   ]
  },
  {
   "cell_type": "code",
   "execution_count": 282,
   "metadata": {},
   "outputs": [
    {
     "data": {
      "text/plain": [
       "(3, 4, 4)"
      ]
     },
     "execution_count": 282,
     "metadata": {},
     "output_type": "execute_result"
    }
   ],
   "source": [
    "(1,2,3,4,4)[2:]"
   ]
  },
  {
   "cell_type": "code",
   "execution_count": 283,
   "metadata": {},
   "outputs": [],
   "source": [
    "def filter_response(result,age,only_free=False,minimum_seat_required=None):\n",
    "    text = ''\n",
    "    for en in result['centers']:\n",
    "        fee_type = en['fee_type']\n",
    "        if only_free and fee_type.lower() != 'free':\n",
    "            continue\n",
    "        sessions = en['sessions']\n",
    "        availability =(session for session in sessions if session['available_capacity']>0 and session['min_age_limit']==18)\n",
    "        availability = [i for i in availability if i]\n",
    "        if minimum_seat_required:\n",
    "            availability = [i for i in availability if i['available_capacity'] >= minimum_seat_required]\n",
    "        \n",
    "        if any(availability):\n",
    "            center = en['name'] + ', '+ en['address'] + ', ' + en['district_name'] + ', ' + en['state_name']\n",
    "            text += f\"Center : {center}\\n\"\n",
    "            for details in availability:\n",
    "                text += f\"Date : {details['date']}  Vaccine : {details['vaccine']}  Available: {details['available_capacity']}\\n\"\n",
    "                text += f\"Dose1 : {details['available_capacity_dose1']}  Dose2 : {details['available_capacity_dose2']}\\n\"\n",
    "            text += '--'*30 + '\\n' \n",
    "    return text"
   ]
  },
  {
   "cell_type": "code",
   "execution_count": 284,
   "metadata": {},
   "outputs": [
    {
     "name": "stdout",
     "output_type": "stream",
     "text": [
      "Center : Max Hospital, Max Hospital Opp HUDA City Block Sushant Lok, Gurgaon, Haryana\n",
      "Date : 19-05-2021  Vaccine : COVISHIELD  Available: 8\n",
      "Dose1 : 0  Dose2 : 0\n",
      "Date : 20-05-2021  Vaccine : COVISHIELD  Available: 5\n",
      "Dose1 : 0  Dose2 : 0\n",
      "Date : 21-05-2021  Vaccine : COVISHIELD  Available: 3\n",
      "Dose1 : 0  Dose2 : 0\n",
      "------------------------------------------------------------\n",
      "\n"
     ]
    }
   ],
   "source": [
    "print(filter_response(result,18,False,2))"
   ]
  },
  {
   "cell_type": "code",
   "execution_count": 49,
   "metadata": {},
   "outputs": [
    {
     "data": {
      "text/plain": [
       "{'session_id': '4c1e70aa-e7bd-47d2-84ef-49479866a1ad',\n",
       " 'date': '16-05-2021',\n",
       " 'available_capacity': 0,\n",
       " 'min_age_limit': 18,\n",
       " 'vaccine': 'COVISHIELD',\n",
       " 'slots': ['10:00AM-12:00PM',\n",
       "  '12:00PM-02:00PM',\n",
       "  '02:00PM-04:00PM',\n",
       "  '04:00PM-05:00PM'],\n",
       " 'available_capacity_dose1': 0,\n",
       " 'available_capacity_dose2': 0}"
      ]
     },
     "execution_count": 49,
     "metadata": {},
     "output_type": "execute_result"
    }
   ],
   "source": [
    "{'session_id': '4c1e70aa-e7bd-47d2-84ef-49479866a1ad',\n",
    "    'date': '16-05-2021',\n",
    "    'available_capacity': 0,\n",
    "    'min_age_limit': 18,\n",
    "    'vaccine': 'COVISHIELD',\n",
    "    'slots': ['10:00AM-12:00PM',\n",
    "     '12:00PM-02:00PM',\n",
    "     '02:00PM-04:00PM',\n",
    "     '04:00PM-05:00PM'],\n",
    "    'available_capacity_dose1': 0,\n",
    "    'available_capacity_dose2': 0}"
   ]
  },
  {
   "cell_type": "code",
   "execution_count": null,
   "metadata": {},
   "outputs": [],
   "source": []
  }
 ],
 "metadata": {
  "kernelspec": {
   "display_name": "Python 3",
   "language": "python",
   "name": "python3"
  },
  "language_info": {
   "codemirror_mode": {
    "name": "ipython",
    "version": 3
   },
   "file_extension": ".py",
   "mimetype": "text/x-python",
   "name": "python",
   "nbconvert_exporter": "python",
   "pygments_lexer": "ipython3",
   "version": "3.7.4"
  }
 },
 "nbformat": 4,
 "nbformat_minor": 2
}
